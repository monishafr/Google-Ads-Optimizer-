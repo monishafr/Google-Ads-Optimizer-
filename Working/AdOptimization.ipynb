{
  "nbformat": 4,
  "nbformat_minor": 0,
  "metadata": {
    "colab": {
      "provenance": []
    },
    "kernelspec": {
      "name": "python3",
      "display_name": "Python 3"
    },
    "language_info": {
      "name": "python"
    }
  },
  "cells": [
    {
      "cell_type": "markdown",
      "source": [
        "### Setting up the Environment"
      ],
      "metadata": {
        "id": "VzBnuH9T739W"
      }
    },
    {
      "cell_type": "code",
      "source": [
        "!pip install pyspark\n"
      ],
      "metadata": {
        "colab": {
          "base_uri": "https://localhost:8080/"
        },
        "id": "bdTahyXM79Um",
        "outputId": "ea5ace63-826b-4a1b-abb7-b86efd1ce2a3"
      },
      "execution_count": 1,
      "outputs": [
        {
          "output_type": "stream",
          "name": "stdout",
          "text": [
            "Requirement already satisfied: pyspark in /usr/local/lib/python3.10/dist-packages (3.5.3)\n",
            "Requirement already satisfied: py4j==0.10.9.7 in /usr/local/lib/python3.10/dist-packages (from pyspark) (0.10.9.7)\n"
          ]
        }
      ]
    },
    {
      "cell_type": "code",
      "execution_count": 2,
      "metadata": {
        "id": "L2yaAyxq70Nt"
      },
      "outputs": [],
      "source": [
        "# Import necessary libraries\n",
        "from pyspark.sql import SparkSession\n",
        "from pyspark.sql.functions import *\n",
        "from pyspark.sql.types import *\n",
        "\n",
        "import pandas as pd\n",
        "import numpy as np\n",
        "import matplotlib.pyplot as plt\n",
        "import seaborn as sns\n",
        "\n",
        "# Initialize Spark Session\n",
        "spark = SparkSession.builder \\\n",
        "    .appName(\"Google Ads Optimization\") \\\n",
        "    .getOrCreate()\n"
      ]
    },
    {
      "cell_type": "markdown",
      "source": [
        "### Loading the Dataset"
      ],
      "metadata": {
        "id": "l2d2ErsC8xZD"
      }
    },
    {
      "cell_type": "code",
      "source": [
        "# Load the dataset\n",
        "data_path = \"/content/50krecords.csv\"\n",
        "df = spark.read.csv(data_path, header=True, inferSchema=True)\n",
        "\n",
        "# Display the schema\n",
        "df.printSchema()\n",
        "\n",
        "# Show a sample of the data\n",
        "df.show(5)\n"
      ],
      "metadata": {
        "colab": {
          "base_uri": "https://localhost:8080/"
        },
        "id": "EjnHpFDi76zk",
        "outputId": "b8b591f9-64bb-4ad7-ac51-289f63c65175"
      },
      "execution_count": 3,
      "outputs": [
        {
          "output_type": "stream",
          "name": "stdout",
          "text": [
            "root\n",
            " |-- id: decimal(20,0) (nullable = true)\n",
            " |-- click: integer (nullable = true)\n",
            " |-- hour: timestamp (nullable = true)\n",
            " |-- C1: integer (nullable = true)\n",
            " |-- banner_pos: integer (nullable = true)\n",
            " |-- site_id: string (nullable = true)\n",
            " |-- site_domain: string (nullable = true)\n",
            " |-- site_category: string (nullable = true)\n",
            " |-- app_id: string (nullable = true)\n",
            " |-- app_domain: string (nullable = true)\n",
            " |-- app_category: string (nullable = true)\n",
            " |-- device_id: string (nullable = true)\n",
            " |-- device_ip: string (nullable = true)\n",
            " |-- device_model: string (nullable = true)\n",
            " |-- device_type: integer (nullable = true)\n",
            " |-- device_conn_type: integer (nullable = true)\n",
            " |-- C14: integer (nullable = true)\n",
            " |-- C15: integer (nullable = true)\n",
            " |-- C16: integer (nullable = true)\n",
            " |-- C17: integer (nullable = true)\n",
            " |-- C18: integer (nullable = true)\n",
            " |-- C19: integer (nullable = true)\n",
            " |-- C20: integer (nullable = true)\n",
            " |-- C21: integer (nullable = true)\n",
            "\n",
            "+--------------------+-----+-------------------+----+----------+--------+-----------+-------------+--------+----------+------------+---------+---------+------------+-----------+----------------+-----+---+---+----+---+---+------+---+\n",
            "|                  id|click|               hour|  C1|banner_pos| site_id|site_domain|site_category|  app_id|app_domain|app_category|device_id|device_ip|device_model|device_type|device_conn_type|  C14|C15|C16| C17|C18|C19|   C20|C21|\n",
            "+--------------------+-----+-------------------+----+----------+--------+-----------+-------------+--------+----------+------------+---------+---------+------------+-----------+----------------+-----+---+---+----+---+---+------+---+\n",
            "|10047956568026797881|    0|2014-10-21 00:00:00|1005|         0|543a539e|   c7ca3108|     3e814130|ecad2386|  7801e8d9|    07d7df22| a99f214a| 5a83756c|    1f0bc64f|          1|               0|20366|320| 50|2333|  0| 39|    -1|157|\n",
            "|10060080737601186118|    0|2014-10-21 00:00:00|1005|         0|1fbe01fe|   f3845767|     28905ebd|ecad2386|  7801e8d9|    07d7df22| a99f214a| c6e93acc|    8a4875bd|          1|               0|15701|320| 50|1722|  0| 35|100084| 79|\n",
            "|10101644009186275581|    0|2014-10-21 00:00:00|1010|         1|85f751fd|   c4e18dd6|     50e219e0|ffc6ffd0|  7801e8d9|    0f2161f8| a96a47c0| 96db84ee|    b4196eca|          4|               0|21665|320| 50|2493|  3| 35|    -1|117|\n",
            "|10242171825760542111|    0|2014-10-21 00:00:00|1005|         0|26fa1946|   e2a5dc06|     3e814130|ecad2386|  7801e8d9|    07d7df22| a99f214a| 61468736|    5db079b5|          1|               2|20366|320| 50|2333|  0| 39|100103|157|\n",
            "|10260687987362092029|    0|2014-10-21 00:00:00|1005|         0|85f751fd|   c4e18dd6|     50e219e0|0acbeaa3|  45a51db4|    f95efa07| a99f214a| 056c2c1b|    4ea23a13|          1|               0|20596|320| 50|2161|  0| 35|    -1|157|\n",
            "+--------------------+-----+-------------------+----+----------+--------+-----------+-------------+--------+----------+------------+---------+---------+------------+-----------+----------------+-----+---+---+----+---+---+------+---+\n",
            "only showing top 5 rows\n",
            "\n"
          ]
        }
      ]
    },
    {
      "cell_type": "markdown",
      "source": [
        "Explanation:\n",
        "\n",
        "We read the CSV file using spark.read.csv() with header=True and inferSchema=True to automatically infer data types.\n",
        "The printSchema() method displays the structure of the DataFrame.\n",
        "The show(5) method displays the first five rows."
      ],
      "metadata": {
        "id": "rHGnEdVQD5NC"
      }
    },
    {
      "cell_type": "markdown",
      "source": [
        "### Data Preprocessing"
      ],
      "metadata": {
        "id": "LJV25P7K89Wd"
      }
    },
    {
      "cell_type": "code",
      "source": [
        "# Check for missing values\n",
        "missing_values = df.select([count(when(col(c).isNull(), c)).alias(c) for c in df.columns])\n",
        "missing_values.show()\n",
        "\n",
        "# Drop rows with missing values (if any)\n",
        "df = df.dropna()\n",
        "\n",
        "# Convert 'hour' column to timestamp\n",
        "# Make sure the 'hour' column is formatted correctly before conversion\n",
        "df = df.withColumn('hour', to_timestamp('hour', 'yyyy-MM-dd HH:mm:ss'))\n",
        "\n",
        "# Extract 'hour_of_day' and 'day_of_week'\n",
        "df = df.withColumn('hour_of_day', hour('hour'))\n",
        "df = df.withColumn('day_of_week', date_format('hour', 'E'))\n",
        "\n",
        "# Show the transformed data\n",
        "df.show(7)"
      ],
      "metadata": {
        "colab": {
          "base_uri": "https://localhost:8080/"
        },
        "id": "wugLhwVJ8_Bk",
        "outputId": "1fd1e496-b730-4330-c37b-b93bd946a2cd"
      },
      "execution_count": 4,
      "outputs": [
        {
          "output_type": "stream",
          "name": "stdout",
          "text": [
            "+---+-----+----+---+----------+-------+-----------+-------------+------+----------+------------+---------+---------+------------+-----------+----------------+---+---+---+---+---+---+---+---+\n",
            "| id|click|hour| C1|banner_pos|site_id|site_domain|site_category|app_id|app_domain|app_category|device_id|device_ip|device_model|device_type|device_conn_type|C14|C15|C16|C17|C18|C19|C20|C21|\n",
            "+---+-----+----+---+----------+-------+-----------+-------------+------+----------+------------+---------+---------+------------+-----------+----------------+---+---+---+---+---+---+---+---+\n",
            "|  0|    0|   0|  0|         0|      0|          0|            0|     0|         0|           0|        0|        0|           0|          0|               0|  0|  0|  0|  0|  0|  0|  0|  0|\n",
            "+---+-----+----+---+----------+-------+-----------+-------------+------+----------+------------+---------+---------+------------+-----------+----------------+---+---+---+---+---+---+---+---+\n",
            "\n",
            "+--------------------+-----+-------------------+----+----------+--------+-----------+-------------+--------+----------+------------+---------+---------+------------+-----------+----------------+-----+---+---+----+---+---+------+---+-----------+-----------+\n",
            "|                  id|click|               hour|  C1|banner_pos| site_id|site_domain|site_category|  app_id|app_domain|app_category|device_id|device_ip|device_model|device_type|device_conn_type|  C14|C15|C16| C17|C18|C19|   C20|C21|hour_of_day|day_of_week|\n",
            "+--------------------+-----+-------------------+----+----------+--------+-----------+-------------+--------+----------+------------+---------+---------+------------+-----------+----------------+-----+---+---+----+---+---+------+---+-----------+-----------+\n",
            "|10047956568026797881|    0|2014-10-21 00:00:00|1005|         0|543a539e|   c7ca3108|     3e814130|ecad2386|  7801e8d9|    07d7df22| a99f214a| 5a83756c|    1f0bc64f|          1|               0|20366|320| 50|2333|  0| 39|    -1|157|          0|        Tue|\n",
            "|10060080737601186118|    0|2014-10-21 00:00:00|1005|         0|1fbe01fe|   f3845767|     28905ebd|ecad2386|  7801e8d9|    07d7df22| a99f214a| c6e93acc|    8a4875bd|          1|               0|15701|320| 50|1722|  0| 35|100084| 79|          0|        Tue|\n",
            "|10101644009186275581|    0|2014-10-21 00:00:00|1010|         1|85f751fd|   c4e18dd6|     50e219e0|ffc6ffd0|  7801e8d9|    0f2161f8| a96a47c0| 96db84ee|    b4196eca|          4|               0|21665|320| 50|2493|  3| 35|    -1|117|          0|        Tue|\n",
            "|10242171825760542111|    0|2014-10-21 00:00:00|1005|         0|26fa1946|   e2a5dc06|     3e814130|ecad2386|  7801e8d9|    07d7df22| a99f214a| 61468736|    5db079b5|          1|               2|20366|320| 50|2333|  0| 39|100103|157|          0|        Tue|\n",
            "|10260687987362092029|    0|2014-10-21 00:00:00|1005|         0|85f751fd|   c4e18dd6|     50e219e0|0acbeaa3|  45a51db4|    f95efa07| a99f214a| 056c2c1b|    4ea23a13|          1|               0|20596|320| 50|2161|  0| 35|    -1|157|          0|        Tue|\n",
            "| 1042105605292374202|    0|2014-10-21 00:00:00|1005|         1|930c2840|   9d3b56b1|     3e814130|ecad2386|  7801e8d9|    07d7df22| a99f214a| 38b1b13e|    900981af|          1|               2|20596|320| 50|2161|  0| 35|    -1|157|          0|        Tue|\n",
            "|10466745806386449320|    0|2014-10-21 00:00:00|1005|         0|85f751fd|   c4e18dd6|     50e219e0|c8e3e3c1|  b5f3b24a|    8ded1f7a| ecb8b599| cb1c2934|    0dedddc5|          1|               2|18987|320| 50|2158|  3|291|100190| 61|          0|        Tue|\n",
            "+--------------------+-----+-------------------+----+----------+--------+-----------+-------------+--------+----------+------------+---------+---------+------------+-----------+----------------+-----+---+---+----+---+---+------+---+-----------+-----------+\n",
            "only showing top 7 rows\n",
            "\n"
          ]
        }
      ]
    },
    {
      "cell_type": "markdown",
      "source": [
        "Explanation:\n",
        "\n",
        "We check for missing values in each column.\n",
        "Drop rows with missing values using dropna().\n",
        "Convert the hour column to a timestamp.\n",
        "Extract hour_of_day and day_of_week for time-based analysis."
      ],
      "metadata": {
        "id": "-S1KvykuD8VM"
      }
    },
    {
      "cell_type": "markdown",
      "source": [
        "### Exploratory Data Analysis"
      ],
      "metadata": {
        "id": "BheTz-5Z98xu"
      }
    },
    {
      "cell_type": "code",
      "source": [
        "# Calculate CTR\n",
        "total_clicks = df.filter(col('click') == 1).count()\n",
        "total_impressions = df.count()\n",
        "ctr = (total_clicks / total_impressions) * 100\n",
        "print(f\"Click-Through Rate (CTR): {ctr:.2f}%\")\n"
      ],
      "metadata": {
        "colab": {
          "base_uri": "https://localhost:8080/"
        },
        "id": "oOpizjrY9-zN",
        "outputId": "1701ad6b-d1b3-4b17-de65-34acddc4ae8b"
      },
      "execution_count": 5,
      "outputs": [
        {
          "output_type": "stream",
          "name": "stdout",
          "text": [
            "Click-Through Rate (CTR): 16.93%\n"
          ]
        }
      ]
    },
    {
      "cell_type": "markdown",
      "source": [
        "Explanation:\n",
        "\n",
        "Calculate the total number of clicks and impressions.\n",
        "Compute CTR as a percentage."
      ],
      "metadata": {
        "id": "2sY0ul6dD-q1"
      }
    },
    {
      "cell_type": "markdown",
      "source": [
        "### Visualizing CTR by hour of the day"
      ],
      "metadata": {
        "id": "-H3adgQT-B9q"
      }
    },
    {
      "cell_type": "code",
      "source": [
        "# Aggregate clicks by hour_of_day\n",
        "ctr_by_hour = df.groupBy('hour_of_day').agg(\n",
        "    (sum(col('click')) / count(col('click'))).alias('ctr')\n",
        ").orderBy('hour_of_day')\n",
        "\n",
        "# Convert to Pandas for plotting\n",
        "ctr_by_hour_pd = ctr_by_hour.toPandas()\n",
        "\n",
        "# Plotting\n",
        "plt.figure(figsize=(10, 6))\n",
        "sns.lineplot(data=ctr_by_hour_pd, x='hour_of_day', y='ctr')\n",
        "plt.title('CTR by Hour of Day')\n",
        "plt.xlabel('Hour of Day')\n",
        "plt.ylabel('Click-Through Rate')\n",
        "plt.show()\n"
      ],
      "metadata": {
        "colab": {
          "base_uri": "https://localhost:8080/",
          "height": 564
        },
        "id": "dL7S79tj9_Ui",
        "outputId": "b67462c4-1180-4b3a-87ee-8ed4e95b3181"
      },
      "execution_count": 6,
      "outputs": [
        {
          "output_type": "display_data",
          "data": {
            "text/plain": [
              "<Figure size 1000x600 with 1 Axes>"
            ],
            "image/png": "[encoded data removed]"
          },
          "metadata": {}
        }
      ]
    },
    {
      "cell_type": "markdown",
      "source": [
        "Explanation:\n",
        "\n",
        "Group data by hour_of_day and calculate CTR.\n",
        "Convert to a Pandas DataFrame for plotting with matplotlib and `seaborn`."
      ],
      "metadata": {
        "id": "fhf7q9FuEBVg"
      }
    },
    {
      "cell_type": "markdown",
      "source": [
        "### Feature Engineering"
      ],
      "metadata": {
        "id": "6Rs28LjN-Q9O"
      }
    },
    {
      "cell_type": "markdown",
      "source": [
        "#### a. Encoding Categorical Variables"
      ],
      "metadata": {
        "id": "GpEk7bKwBeg4"
      }
    },
    {
      "cell_type": "code",
      "source": [
        "from pyspark.ml.feature import StringIndexer, OneHotEncoder\n",
        "from pyspark.ml import Pipeline\n",
        "\n",
        "# List of categorical columns to encode\n",
        "categorical_cols = ['C1', 'banner_pos', 'site_category', 'app_category', 'device_type', 'device_conn_type']\n",
        "\n",
        "# Indexing and Encoding stages\n",
        "stages = []\n",
        "for col_name in categorical_cols:\n",
        "    string_indexer = StringIndexer(inputCol=col_name, outputCol=col_name + '_Index')\n",
        "    # Set dropLast=False to include all categories\n",
        "    encoder = OneHotEncoder(inputCol=col_name + '_Index', outputCol=col_name + '_Vec', dropLast=False)\n",
        "    stages += [string_indexer, encoder]\n",
        "\n",
        "# Build and fit the pipeline\n",
        "pipeline = Pipeline(stages=stages)\n",
        "pipeline_model = pipeline.fit(df)\n",
        "df = pipeline_model.transform(df)\n"
      ],
      "metadata": {
        "id": "6bV1hss9-Hka"
      },
      "execution_count": 7,
      "outputs": []
    },
    {
      "cell_type": "markdown",
      "source": [
        "Explanation:\n",
        "\n",
        "Use `StringIndexer` to convert string categories to numerical indices.\n",
        "Use `OneHotEncoder` to convert indices to one-hot encoded vectors.\n",
        "Build a pipeline to streamline the transformation process."
      ],
      "metadata": {
        "id": "GUyFF3BqEFfZ"
      }
    },
    {
      "cell_type": "markdown",
      "source": [
        "#### b. Assembling Features"
      ],
      "metadata": {
        "id": "XJiZSIJH-YDn"
      }
    },
    {
      "cell_type": "code",
      "source": [
        "from pyspark.ml.feature import VectorAssembler\n",
        "\n",
        "# List of feature columns\n",
        "feature_cols = [col + '_Vec' for col in categorical_cols] + ['hour_of_day']\n",
        "\n",
        "# Assemble feature vector\n",
        "assembler = VectorAssembler(inputCols=feature_cols, outputCol='features')\n",
        "df = assembler.transform(df)\n"
      ],
      "metadata": {
        "id": "7tlcgTny-VJS"
      },
      "execution_count": 8,
      "outputs": []
    },
    {
      "cell_type": "markdown",
      "source": [
        "Explanation:\n",
        "\n",
        "Create a list of feature columns to include in the model.\n",
        "Use `VectorAssembler` to combine feature columns into a single feature vector."
      ],
      "metadata": {
        "id": "rEHpc_NxEI4O"
      }
    },
    {
      "cell_type": "markdown",
      "source": [
        "#### c. Extracting Feature names"
      ],
      "metadata": {
        "id": "kr80kpjuBr8N"
      }
    },
    {
      "cell_type": "markdown",
      "source": [
        "### Model Training"
      ],
      "metadata": {
        "id": "zhnApg4R-fn4"
      }
    },
    {
      "cell_type": "markdown",
      "source": [
        "#### a. Splitting the data"
      ],
      "metadata": {
        "id": "RoVEm_Wx-nbS"
      }
    },
    {
      "cell_type": "code",
      "source": [
        "# Split the data into training and testing sets\n",
        "train_df, test_df = df.randomSplit([0.7, 0.3], seed=42)\n"
      ],
      "metadata": {
        "id": "QsCuJd30-dzu"
      },
      "execution_count": 11,
      "outputs": []
    },
    {
      "cell_type": "markdown",
      "source": [
        "Explanation:\n",
        "\n",
        "Split the data into 70% training and 30% testing sets for model evaluation."
      ],
      "metadata": {
        "id": "bhWkBKdBEMpH"
      }
    },
    {
      "cell_type": "markdown",
      "source": [
        "#### b. Training a Logistic Regression Model"
      ],
      "metadata": {
        "id": "TBUOXY4s-rMU"
      }
    },
    {
      "cell_type": "code",
      "source": [
        "feature_names = assembler.getInputCols()"
      ],
      "metadata": {
        "id": "c9jZ4y-w_qIN"
      },
      "execution_count": 12,
      "outputs": []
    },
    {
      "cell_type": "code",
      "source": [
        "from pyspark.ml.classification import LogisticRegression\n",
        "\n",
        "# Initialize the Logistic Regression model\n",
        "lr = LogisticRegression(featuresCol='features', labelCol='click', maxIter=10)\n",
        "\n",
        "# Train the model\n",
        "lr_model = lr.fit(train_df)\n"
      ],
      "metadata": {
        "id": "CzkU3WXS-h1w"
      },
      "execution_count": 13,
      "outputs": []
    },
    {
      "cell_type": "markdown",
      "source": [
        "Explanation:\n",
        "\n",
        "Use logistic regression for binary classification of clicks.\n",
        "Set `maxIter` to limit the number of iterations during training."
      ],
      "metadata": {
        "id": "E2LLA6cYEPHp"
      }
    },
    {
      "cell_type": "markdown",
      "source": [
        "### Model Evaluation"
      ],
      "metadata": {
        "id": "unSWdwcB-wfb"
      }
    },
    {
      "cell_type": "code",
      "source": [
        "# Make predictions on the test data\n",
        "predictions = lr_model.transform(test_df)\n",
        "\n",
        "# Evaluate the model\n",
        "from pyspark.ml.evaluation import BinaryClassificationEvaluator\n",
        "\n",
        "evaluator = BinaryClassificationEvaluator(rawPredictionCol='rawPrediction', labelCol='click', metricName='areaUnderROC')\n",
        "auc = evaluator.evaluate(predictions)\n",
        "print(f\"Test AUC: {auc:.4f}\")\n"
      ],
      "metadata": {
        "colab": {
          "base_uri": "https://localhost:8080/"
        },
        "id": "1z9DbwCX-vdJ",
        "outputId": "b6f00a3a-0c00-4188-ec12-aa9be6e0e9bf"
      },
      "execution_count": 14,
      "outputs": [
        {
          "output_type": "stream",
          "name": "stdout",
          "text": [
            "Test AUC: 0.6132\n"
          ]
        }
      ]
    },
    {
      "cell_type": "markdown",
      "source": [
        "Explanation:\n",
        "\n",
        "Use the trained model to make predictions on the test set.\n",
        "Evaluate using Area Under the ROC Curve (AUC) metric."
      ],
      "metadata": {
        "id": "wzGfX-e0ES3Q"
      }
    },
    {
      "cell_type": "markdown",
      "source": [
        "### Analyzing Feature Importance"
      ],
      "metadata": {
        "id": "rUw0r8cA-4jI"
      }
    },
    {
      "cell_type": "code",
      "source": [
        "# Extract feature importances\n",
        "import numpy as np\n",
        "\n",
        "from pyspark.ml.feature import StringIndexerModel, OneHotEncoderModel\n",
        "\n",
        "# Initialize dictionaries to hold the models\n",
        "indexer_model_dict = {}\n",
        "encoder_model_dict = {}\n",
        "\n",
        "# Extract models from the pipeline\n",
        "for stage in pipeline_model.stages:\n",
        "    if isinstance(stage, StringIndexerModel):\n",
        "        indexer_model_dict[stage.getOutputCol()] = stage\n",
        "    elif isinstance(stage, OneHotEncoderModel):\n",
        "        encoder_model_dict[stage.getOutputCol()] = stage\n",
        "\n",
        "# Prepare the expanded feature names\n",
        "expanded_feature_names = []\n",
        "\n",
        "# For each input column in the VectorAssembler\n",
        "for col_name in assembler.getInputCols():\n",
        "    if col_name == 'hour_of_day':\n",
        "        expanded_feature_names.append(col_name)\n",
        "    else:\n",
        "        # Get original column name by removing '_Vec'\n",
        "        orig_col_name = col_name.replace('_Vec', '')\n",
        "        # Get the corresponding StringIndexerModel\n",
        "        indexer_model = indexer_model_dict[orig_col_name + '_Index']\n",
        "        # Get category labels\n",
        "        labels = indexer_model.labels\n",
        "        # Add feature names for each category\n",
        "        for label in labels:\n",
        "            feature_name = f'{orig_col_name}_{label}'\n",
        "            expanded_feature_names.append(feature_name)\n",
        "\n",
        "# Get the coefficients from the model\n",
        "coefficients = lr_model.coefficients.toArray()\n",
        "\n",
        "# Ensure the lengths match\n",
        "print(f\"Number of expanded feature names: {len(expanded_feature_names)}\")\n",
        "print(f\"Number of coefficients: {len(coefficients)}\")\n",
        "\n",
        "# Create a DataFrame for feature importances\n",
        "fi_df = pd.DataFrame({\n",
        "    'feature': expanded_feature_names,\n",
        "    'importance': coefficients\n",
        "})\n",
        "\n",
        "# Sort features by absolute importance\n",
        "fi_df['abs_importance'] = fi_df['importance'].abs()\n",
        "fi_df.sort_values(by='abs_importance', ascending=False, inplace=True)\n",
        "\n",
        "# Display the top features\n",
        "print(fi_df[['feature', 'importance']].head(10))\n"
      ],
      "metadata": {
        "colab": {
          "base_uri": "https://localhost:8080/"
        },
        "id": "zDoS8aKR-0DR",
        "outputId": "2b0e5f9b-1ac0-454b-d671-2be2197fef92"
      },
      "execution_count": 15,
      "outputs": [
        {
          "output_type": "stream",
          "name": "stdout",
          "text": [
            "Number of expanded feature names: 60\n",
            "Number of coefficients: 60\n",
            "                   feature  importance\n",
            "47   app_category_2281a340   -4.068207\n",
            "27  site_category_8fd0aea4   -3.800283\n",
            "31  site_category_e787de0e   -3.800198\n",
            "21  site_category_76b2941d   -3.781095\n",
            "29  site_category_a818d37a   -3.756884\n",
            "49   app_category_8df2e842   -3.625909\n",
            "58      device_conn_type_5   -3.522538\n",
            "45   app_category_0f9a328c   -3.497646\n",
            "41   app_category_fc6fa53d   -3.447263\n",
            "44   app_category_a3c42688    2.810969\n"
          ]
        }
      ]
    },
    {
      "cell_type": "markdown",
      "source": [
        "Explanation:\n",
        "\n",
        "Retrieve model coefficients to assess feature importance.\n",
        "Use absolute values to rank features by their impact.\n",
        "Display the top 10 most important features.\n"
      ],
      "metadata": {
        "id": "KlegatTxEVrQ"
      }
    },
    {
      "cell_type": "code",
      "source": [
        "# Plot feature importances\n",
        "plt.figure(figsize=(12, 8))\n",
        "sns.barplot(data=fi_df.head(10), x='importance', y='feature', orient='h')\n",
        "plt.title('Top 10 Feature Importances')\n",
        "plt.xlabel('Coefficient Value')\n",
        "plt.ylabel('Feature')\n",
        "plt.show()\n"
      ],
      "metadata": {
        "colab": {
          "base_uri": "https://localhost:8080/",
          "height": 635
        },
        "id": "tQd5_o9q-7C8",
        "outputId": "a119d44f-1828-4676-c865-3a877a0e06b7"
      },
      "execution_count": 16,
      "outputs": [
        {
          "output_type": "display_data",
          "data": {
            "text/plain": [
              "<Figure size 1200x800 with 1 Axes>"
            ],
            "image/png": "[encoded data removed]"
          },
          "metadata": {}
        }
      ]
    },
    {
      "cell_type": "markdown",
      "source": [
        "Explanation:\n",
        "\n",
        "Use `seaborn` to create a horizontal bar plot of the top 10 features.\n",
        "Visual aids help in understanding which features are most influential.\n"
      ],
      "metadata": {
        "id": "E7kwWUA7EgWT"
      }
    },
    {
      "cell_type": "markdown",
      "source": [
        "### Refining Target Mechanisms\n",
        "\n",
        "#### a. Identifying Key Features"
      ],
      "metadata": {
        "id": "G2R_CidUCo7x"
      }
    },
    {
      "cell_type": "code",
      "source": [
        "# Key features influencing clicks\n",
        "key_features = fi_df['feature'].head(5).tolist()\n",
        "print(\"Key features to focus on for targeting mechanisms:\")\n",
        "print(key_features)\n"
      ],
      "metadata": {
        "colab": {
          "base_uri": "https://localhost:8080/"
        },
        "id": "pNqk5NOQCr-z",
        "outputId": "3bf8cb2d-d015-47b8-e8b9-8c9b0bf97124"
      },
      "execution_count": 17,
      "outputs": [
        {
          "output_type": "stream",
          "name": "stdout",
          "text": [
            "Key features to focus on for targeting mechanisms:\n",
            "['app_category_2281a340', 'site_category_8fd0aea4', 'site_category_e787de0e', 'site_category_76b2941d', 'site_category_a818d37a']\n"
          ]
        }
      ]
    },
    {
      "cell_type": "markdown",
      "source": [
        "Explanation:\n",
        "\n",
        "List out the top features that have the most significant impact on click prediction.\n",
        "\n",
        "Recommendations:\n",
        "- **Device Type and Connection Type:** If device_type and device_conn_type are among the top features, tailor ads for specific devices or connection types.\n",
        "\n",
        "- **Time of Day:** Utilize hour_of_day to schedule ads during peak hours with higher CTR.\n",
        "\n",
        "- **Site and App Categories:** Focus on high-performing site_category and app_category to improve relevance.\n"
      ],
      "metadata": {
        "id": "2h4nwB4-EmMS"
      }
    },
    {
      "cell_type": "markdown",
      "source": [],
      "metadata": {
        "id": "ni1oxCnGCtA7"
      }
    },
    {
      "cell_type": "markdown",
      "source": [
        "### Optimizing bidding strategies\n",
        "\n",
        "#### a. Conversion Rates by Device Type"
      ],
      "metadata": {
        "id": "5yhTpOXuC-W7"
      }
    },
    {
      "cell_type": "code",
      "source": [
        "# Calculate conversion rates by device type\n",
        "conversion_by_device = df.groupBy('device_type').agg(\n",
        "    (sum(col('click')) / count(col('click'))).alias('conversion_rate')\n",
        ").orderBy('conversion_rate', ascending=False)\n",
        "\n",
        "conversion_by_device.show()\n"
      ],
      "metadata": {
        "colab": {
          "base_uri": "https://localhost:8080/"
        },
        "id": "FprqmtruCsVn",
        "outputId": "04414990-936f-42e6-eb02-cf718437ffad"
      },
      "execution_count": 18,
      "outputs": [
        {
          "output_type": "stream",
          "name": "stdout",
          "text": [
            "+-----------+-------------------+\n",
            "|device_type|    conversion_rate|\n",
            "+-----------+-------------------+\n",
            "|          0|0.21501831501831503|\n",
            "|          1| 0.1683380623361996|\n",
            "|          5|0.10344827586206896|\n",
            "|          4| 0.0970873786407767|\n",
            "+-----------+-------------------+\n",
            "\n"
          ]
        }
      ]
    },
    {
      "cell_type": "markdown",
      "source": [
        "Explanation:\n",
        "\n",
        "Identify which device types have higher conversion rates.\n",
        "Allocate more budget to device types with better performance."
      ],
      "metadata": {
        "id": "eB7kJLuvEzx6"
      }
    },
    {
      "cell_type": "markdown",
      "source": [
        "#### b. Time based bidding"
      ],
      "metadata": {
        "id": "4PW8Ue2DDHRI"
      }
    },
    {
      "cell_type": "code",
      "source": [
        "# Identify peak hours\n",
        "peak_hours = ctr_by_hour_pd.sort_values(by='ctr', ascending=False).head(5)\n",
        "print(\"Peak hours with highest CTR:\")\n",
        "print(peak_hours)\n",
        "\n",
        "# Suggest increasing bids during these hours\n"
      ],
      "metadata": {
        "colab": {
          "base_uri": "https://localhost:8080/"
        },
        "id": "bYLwqdmNDEi7",
        "outputId": "7e73fbaa-6f2c-4aac-f80a-01c3581486b1"
      },
      "execution_count": 19,
      "outputs": [
        {
          "output_type": "stream",
          "name": "stdout",
          "text": [
            "Peak hours with highest CTR:\n",
            "    hour_of_day       ctr\n",
            "1             1  0.196000\n",
            "15           15  0.185531\n",
            "0             0  0.178977\n",
            "16           16  0.178453\n",
            "7             7  0.178047\n"
          ]
        }
      ]
    },
    {
      "cell_type": "markdown",
      "source": [
        "Recommendations:\n",
        "\n",
        "Increase Bids During Peak Hours: Allocate a higher portion of your budget during hours with higher CTR.\n",
        "Optimize for High-Performing Devices: Adjust bids based on device types that yield better conversion rates."
      ],
      "metadata": {
        "id": "H15yFSRDE1yP"
      }
    },
    {
      "cell_type": "code",
      "source": [],
      "metadata": {
        "id": "ogWh8Sp_DK7x"
      },
      "execution_count": null,
      "outputs": []
    }
  ]
}