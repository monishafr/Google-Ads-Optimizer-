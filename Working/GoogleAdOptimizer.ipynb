{
  "nbformat": 4,
  "nbformat_minor": 0,
  "metadata": {
    "colab": {
      "provenance": []
    },
    "kernelspec": {
      "name": "python3",
      "display_name": "Python 3"
    },
    "language_info": {
      "name": "python"
    }
  },
  "cells": [
    {
      "cell_type": "markdown",
      "source": [
        "### **Step 1: Setting Up the Environment**"
      ],
      "metadata": {
        "id": "f0RaeWY5H4qg"
      }
    },
    {
      "cell_type": "code",
      "execution_count": 1,
      "metadata": {
        "colab": {
          "base_uri": "https://localhost:8080/"
        },
        "id": "tZVyT2hhHz1V",
        "outputId": "eda6bfb3-f53a-4a61-b4e1-eccbb27db143"
      },
      "outputs": [
        {
          "output_type": "stream",
          "name": "stdout",
          "text": [
            "Collecting pyspark\n",
            "  Downloading pyspark-3.5.3.tar.gz (317.3 MB)\n",
            "\u001b[2K     \u001b[90m━━━━━━━━━━━━━━━━━━━━━━━━━━━━━━━━━━━━━━━━\u001b[0m \u001b[32m317.3/317.3 MB\u001b[0m \u001b[31m4.0 MB/s\u001b[0m eta \u001b[36m0:00:00\u001b[0m\n",
            "\u001b[?25h  Preparing metadata (setup.py) ... \u001b[?25l\u001b[?25hdone\n",
            "Requirement already satisfied: py4j==0.10.9.7 in /usr/local/lib/python3.10/dist-packages (from pyspark) (0.10.9.7)\n",
            "Building wheels for collected packages: pyspark\n",
            "  Building wheel for pyspark (setup.py) ... \u001b[?25l\u001b[?25hdone\n",
            "  Created wheel for pyspark: filename=pyspark-3.5.3-py2.py3-none-any.whl size=317840625 sha256=4364c99587cf9fd2b634ee084ecd05d8181bd81b5aec95eb6c9756e09d839ace\n",
            "  Stored in directory: /root/.cache/pip/wheels/1b/3a/92/28b93e2fbfdbb07509ca4d6f50c5e407f48dce4ddbda69a4ab\n",
            "Successfully built pyspark\n",
            "Installing collected packages: pyspark\n",
            "Successfully installed pyspark-3.5.3\n"
          ]
        }
      ],
      "source": [
        "!pip install pyspark"
      ]
    },
    {
      "cell_type": "code",
      "source": [
        "# Import necessary libraries\n",
        "from pyspark.sql import SparkSession\n",
        "from pyspark.sql.functions import *\n",
        "from pyspark.sql.types import *\n",
        "\n",
        "import pandas as pd\n",
        "import numpy as np\n",
        "import matplotlib.pyplot as plt\n",
        "import seaborn as sns\n",
        "import plotly.express as px\n",
        "\n",
        "# Initialize Spark Session\n",
        "spark = SparkSession.builder \\\n",
        "    .appName(\"Google Ads Optimization\") \\\n",
        "    .getOrCreate()\n"
      ],
      "metadata": {
        "id": "ROFgiMHEH3tx"
      },
      "execution_count": 2,
      "outputs": []
    },
    {
      "cell_type": "markdown",
      "source": [
        "### **Step 2: Loading the Dataset**"
      ],
      "metadata": {
        "id": "2IzJHkIUH9v-"
      }
    },
    {
      "cell_type": "code",
      "source": [
        "# Load the dataset\n",
        "data_path = \"/content/50krecords.csv\"  # Update this path to where your dataset is located\n",
        "df = spark.read.csv(data_path, header=True, inferSchema=True)\n",
        "\n",
        "# Display the schema\n",
        "df.printSchema()\n",
        "\n",
        "# Show a sample of the data\n",
        "df.show(5)\n"
      ],
      "metadata": {
        "colab": {
          "base_uri": "https://localhost:8080/"
        },
        "id": "aaox-3wCIAOp",
        "outputId": "da9b00ff-df00-46b4-d709-ce7abf717c42"
      },
      "execution_count": 6,
      "outputs": [
        {
          "output_type": "stream",
          "name": "stdout",
          "text": [
            "root\n",
            " |-- id: decimal(20,0) (nullable = true)\n",
            " |-- click: integer (nullable = true)\n",
            " |-- hour: timestamp (nullable = true)\n",
            " |-- C1: integer (nullable = true)\n",
            " |-- banner_pos: integer (nullable = true)\n",
            " |-- site_id: string (nullable = true)\n",
            " |-- site_domain: string (nullable = true)\n",
            " |-- site_category: string (nullable = true)\n",
            " |-- app_id: string (nullable = true)\n",
            " |-- app_domain: string (nullable = true)\n",
            " |-- app_category: string (nullable = true)\n",
            " |-- device_id: string (nullable = true)\n",
            " |-- device_ip: string (nullable = true)\n",
            " |-- device_model: string (nullable = true)\n",
            " |-- device_type: integer (nullable = true)\n",
            " |-- device_conn_type: integer (nullable = true)\n",
            " |-- C14: integer (nullable = true)\n",
            " |-- C15: integer (nullable = true)\n",
            " |-- C16: integer (nullable = true)\n",
            " |-- C17: integer (nullable = true)\n",
            " |-- C18: integer (nullable = true)\n",
            " |-- C19: integer (nullable = true)\n",
            " |-- C20: integer (nullable = true)\n",
            " |-- C21: integer (nullable = true)\n",
            "\n",
            "+--------------------+-----+-------------------+----+----------+--------+-----------+-------------+--------+----------+------------+---------+---------+------------+-----------+----------------+-----+---+---+----+---+---+------+---+\n",
            "|                  id|click|               hour|  C1|banner_pos| site_id|site_domain|site_category|  app_id|app_domain|app_category|device_id|device_ip|device_model|device_type|device_conn_type|  C14|C15|C16| C17|C18|C19|   C20|C21|\n",
            "+--------------------+-----+-------------------+----+----------+--------+-----------+-------------+--------+----------+------------+---------+---------+------------+-----------+----------------+-----+---+---+----+---+---+------+---+\n",
            "|10047956568026797881|    0|2014-10-21 00:00:00|1005|         0|543a539e|   c7ca3108|     3e814130|ecad2386|  7801e8d9|    07d7df22| a99f214a| 5a83756c|    1f0bc64f|          1|               0|20366|320| 50|2333|  0| 39|    -1|157|\n",
            "|10060080737601186118|    0|2014-10-21 00:00:00|1005|         0|1fbe01fe|   f3845767|     28905ebd|ecad2386|  7801e8d9|    07d7df22| a99f214a| c6e93acc|    8a4875bd|          1|               0|15701|320| 50|1722|  0| 35|100084| 79|\n",
            "|10101644009186275581|    0|2014-10-21 00:00:00|1010|         1|85f751fd|   c4e18dd6|     50e219e0|ffc6ffd0|  7801e8d9|    0f2161f8| a96a47c0| 96db84ee|    b4196eca|          4|               0|21665|320| 50|2493|  3| 35|    -1|117|\n",
            "|10242171825760542111|    0|2014-10-21 00:00:00|1005|         0|26fa1946|   e2a5dc06|     3e814130|ecad2386|  7801e8d9|    07d7df22| a99f214a| 61468736|    5db079b5|          1|               2|20366|320| 50|2333|  0| 39|100103|157|\n",
            "|10260687987362092029|    0|2014-10-21 00:00:00|1005|         0|85f751fd|   c4e18dd6|     50e219e0|0acbeaa3|  45a51db4|    f95efa07| a99f214a| 056c2c1b|    4ea23a13|          1|               0|20596|320| 50|2161|  0| 35|    -1|157|\n",
            "+--------------------+-----+-------------------+----+----------+--------+-----------+-------------+--------+----------+------------+---------+---------+------------+-----------+----------------+-----+---+---+----+---+---+------+---+\n",
            "only showing top 5 rows\n",
            "\n"
          ]
        }
      ]
    },
    {
      "cell_type": "markdown",
      "source": [
        "Explanation:\n",
        "\n",
        "We read the CSV file using spark.read.csv() with header=True and inferSchema=True to automatically infer data types.\n",
        "The printSchema() method displays the structure of the DataFrame.\n",
        "The show(5) method displays the first five rows."
      ],
      "metadata": {
        "id": "C-N8GGbWICNy"
      }
    },
    {
      "cell_type": "markdown",
      "source": [
        "### **Step 3: Data Preprocessing**"
      ],
      "metadata": {
        "id": "6MkVwDNnIGSy"
      }
    },
    {
      "cell_type": "code",
      "source": [
        "# Check for missing values\n",
        "from pyspark.sql.functions import col, sum\n",
        "\n",
        "missing_values = df.select([count(when(col(c).isNull(), c)).alias(c) for c in df.columns])\n",
        "missing_values.show()\n",
        "\n",
        "# Drop rows with missing values (if any)\n",
        "df = df.dropna()\n",
        "\n",
        "# Convert 'hour' column to timestamp\n",
        "df = df.withColumn('hour', to_timestamp(col('hour'), 'yyyy-MM-dd HH:mm:ss'))\n",
        "\n",
        "# Extract 'hour_of_day' and 'day_of_week'\n",
        "df = df.withColumn('hour_of_day', hour(col('hour')))\n",
        "df = df.withColumn('day_of_week', date_format(col('hour'), 'E'))\n",
        "\n",
        "# Convert 'click' column to integer type\n",
        "df = df.withColumn('click', col('click').cast('integer'))\n"
      ],
      "metadata": {
        "colab": {
          "base_uri": "https://localhost:8080/"
        },
        "id": "OFUwQi4PIFj9",
        "outputId": "80778220-246c-4da3-ba96-336a9868defb"
      },
      "execution_count": 7,
      "outputs": [
        {
          "output_type": "stream",
          "name": "stdout",
          "text": [
            "+---+-----+----+---+----------+-------+-----------+-------------+------+----------+------------+---------+---------+------------+-----------+----------------+---+---+---+---+---+---+---+---+\n",
            "| id|click|hour| C1|banner_pos|site_id|site_domain|site_category|app_id|app_domain|app_category|device_id|device_ip|device_model|device_type|device_conn_type|C14|C15|C16|C17|C18|C19|C20|C21|\n",
            "+---+-----+----+---+----------+-------+-----------+-------------+------+----------+------------+---------+---------+------------+-----------+----------------+---+---+---+---+---+---+---+---+\n",
            "|  0|    0|   0|  0|         0|      0|          0|            0|     0|         0|           0|        0|        0|           0|          0|               0|  0|  0|  0|  0|  0|  0|  0|  0|\n",
            "+---+-----+----+---+----------+-------+-----------+-------------+------+----------+------------+---------+---------+------------+-----------+----------------+---+---+---+---+---+---+---+---+\n",
            "\n"
          ]
        }
      ]
    },
    {
      "cell_type": "markdown",
      "source": [
        "Explanation:\n",
        "\n",
        "- Check for and handle missing values.\n",
        "- Convert the hour column to a timestamp.\n",
        "- Extract time-based features like hour_of_day and day_of_week.\n",
        "- Ensure the click column is of integer type for modeling."
      ],
      "metadata": {
        "id": "HUsn2Q2JIMx8"
      }
    },
    {
      "cell_type": "markdown",
      "source": [
        "### **Step 4: Exploratory Data Analysis (EDA)**\n",
        "\n",
        "#### 4.1 Analyzing Click-Through Rate (CTR)"
      ],
      "metadata": {
        "id": "Tc2N-ocRIQvN"
      }
    },
    {
      "cell_type": "code",
      "source": [
        "# Calculate CTR\n",
        "total_clicks = df.filter(col('click') == 1).count()\n",
        "total_impressions = df.count()\n",
        "ctr = (total_clicks / total_impressions) * 100\n",
        "print(f\"Click-Through Rate (CTR): {ctr:.2f}%\")\n"
      ],
      "metadata": {
        "colab": {
          "base_uri": "https://localhost:8080/"
        },
        "id": "EFUx8oq0IQZ7",
        "outputId": "542e5382-b366-4068-dfd0-5e659d280afc"
      },
      "execution_count": 8,
      "outputs": [
        {
          "output_type": "stream",
          "name": "stdout",
          "text": [
            "Click-Through Rate (CTR): 16.93%\n"
          ]
        }
      ]
    },
    {
      "cell_type": "markdown",
      "source": [
        "#### 4.2 Visualizing CTR by Hour of Day"
      ],
      "metadata": {
        "id": "UK5hFnrVIWuz"
      }
    },
    {
      "cell_type": "code",
      "source": [
        "# Aggregate clicks by hour_of_day\n",
        "ctr_by_hour = df.groupBy('hour_of_day').agg(\n",
        "    (sum(col('click')) / count(col('click'))).alias('ctr')\n",
        ").orderBy('hour_of_day')\n",
        "\n",
        "# Convert to Pandas for plotting\n",
        "ctr_by_hour_pd = ctr_by_hour.toPandas()\n",
        "\n",
        "# Plotting\n",
        "plt.figure(figsize=(10, 6))\n",
        "sns.lineplot(data=ctr_by_hour_pd, x='hour_of_day', y='ctr')\n",
        "plt.title('CTR by Hour of Day')\n",
        "plt.xlabel('Hour of Day')\n",
        "plt.ylabel('Click-Through Rate')\n",
        "plt.show()\n"
      ],
      "metadata": {
        "colab": {
          "base_uri": "https://localhost:8080/",
          "height": 564
        },
        "id": "bqwBvYw7IZJ0",
        "outputId": "f8a5c84c-6bea-48d7-f187-7954903e5c98"
      },
      "execution_count": 9,
      "outputs": [
        {
          "output_type": "display_data",
          "data": {
            "text/plain": [
              "<Figure size 1000x600 with 1 Axes>"
            ],
            "image/png": "[encoded data removed]"
          },
          "metadata": {}
        }
      ]
    },
    {
      "cell_type": "markdown",
      "source": [
        "### **Step 5: Feature Engineering**\n",
        "\n",
        "#### 5.1 Encoding Categorical Variables"
      ],
      "metadata": {
        "id": "U3uzISI4Ibo_"
      }
    },
    {
      "cell_type": "code",
      "source": [
        "from pyspark.ml.feature import StringIndexer, OneHotEncoder\n",
        "from pyspark.ml import Pipeline\n",
        "\n",
        "# List of categorical columns to encode\n",
        "categorical_cols = ['C1', 'banner_pos', 'site_category', 'app_category', 'device_type', 'device_conn_type']\n",
        "\n",
        "# Indexing and Encoding stages\n",
        "stages = []\n",
        "for col_name in categorical_cols:\n",
        "    string_indexer = StringIndexer(inputCol=col_name, outputCol=col_name + '_Index')\n",
        "    # Set dropLast=False to include all categories\n",
        "    encoder = OneHotEncoder(inputCol=col_name + '_Index', outputCol=col_name + '_Vec', dropLast=False)\n",
        "    stages += [string_indexer, encoder]\n",
        "\n",
        "# Build and fit the pipeline\n",
        "pipeline = Pipeline(stages=stages)\n",
        "pipeline_model = pipeline.fit(df)\n",
        "df = pipeline_model.transform(df)\n"
      ],
      "metadata": {
        "id": "7QHbxepcIgSf"
      },
      "execution_count": 10,
      "outputs": []
    },
    {
      "cell_type": "markdown",
      "source": [
        "Explanation:\n",
        "\n",
        "- Encode categorical variables using StringIndexer and OneHotEncoder.\n",
        "- Set dropLast=False to include all categories, which is important for feature mapping later."
      ],
      "metadata": {
        "id": "aKjkHvHIIidp"
      }
    },
    {
      "cell_type": "markdown",
      "source": [
        "### **5.2 Assembling Features**"
      ],
      "metadata": {
        "id": "_0NtgXFqIlt5"
      }
    },
    {
      "cell_type": "code",
      "source": [
        "from pyspark.ml.feature import VectorAssembler\n",
        "\n",
        "# List of feature columns\n",
        "feature_cols = [col + '_Vec' for col in categorical_cols] + ['hour_of_day']\n",
        "\n",
        "# Assemble feature vector\n",
        "assembler = VectorAssembler(inputCols=feature_cols, outputCol='features')\n",
        "df = assembler.transform(df)\n"
      ],
      "metadata": {
        "id": "4Ph29EasIkZe"
      },
      "execution_count": 11,
      "outputs": []
    },
    {
      "cell_type": "markdown",
      "source": [
        "Explanation:\n",
        "\n",
        "Combine all feature columns into a single feature vector using `VectorAssembler`.\n"
      ],
      "metadata": {
        "id": "-2OC1v70Iqk0"
      }
    },
    {
      "cell_type": "markdown",
      "source": [
        "### **Step 6: Feature Selection**\n",
        "\n",
        "#### 6.1 Apply Chi-Squared Feature Selection"
      ],
      "metadata": {
        "id": "lphBwFrGItR2"
      }
    },
    {
      "cell_type": "code",
      "source": [
        "from pyspark.ml.feature import ChiSqSelector\n",
        "\n",
        "# Initialize ChiSqSelector\n",
        "selector = ChiSqSelector(numTopFeatures=50, featuresCol='features', labelCol='click', outputCol='selectedFeatures')\n",
        "\n",
        "# Fit the selector to the data\n",
        "selector_model = selector.fit(df)\n",
        "\n",
        "# Transform the data\n",
        "df = selector_model.transform(df)\n"
      ],
      "metadata": {
        "id": "N6-qL_PtIr-S"
      },
      "execution_count": 12,
      "outputs": []
    },
    {
      "cell_type": "markdown",
      "source": [
        "Explanation:\n",
        "\n",
        "Use Chi-Squared test to select the top 50 features that are most relevant to predicting clicks."
      ],
      "metadata": {
        "id": "rDcpmAZlIzU0"
      }
    },
    {
      "cell_type": "markdown",
      "source": [
        "### **Step 7: Handling Class Imbalance**\n",
        "#### 7.1 Calculate Class Weights"
      ],
      "metadata": {
        "id": "eBWm40xfI1BC"
      }
    },
    {
      "cell_type": "code",
      "source": [
        "# Calculate the ratio of the positive class\n",
        "num_positive = df.filter(df.click == 1).count()\n",
        "num_negative = df.filter(df.click == 0).count()\n",
        "balancing_ratio = num_negative / num_positive\n",
        "\n",
        "print(f\"Balancing Ratio: {balancing_ratio:.2f}\")\n"
      ],
      "metadata": {
        "colab": {
          "base_uri": "https://localhost:8080/"
        },
        "id": "MGW3IXzYI5V3",
        "outputId": "7ffd3e8a-e155-4641-af44-d86771b049fc"
      },
      "execution_count": 13,
      "outputs": [
        {
          "output_type": "stream",
          "name": "stdout",
          "text": [
            "Balancing Ratio: 4.91\n"
          ]
        }
      ]
    },
    {
      "cell_type": "markdown",
      "source": [
        "#### 7.2 Add Class Weights to Data"
      ],
      "metadata": {
        "id": "-EBg39rEI6qo"
      }
    },
    {
      "cell_type": "code",
      "source": [
        "# Add a weight column\n",
        "df = df.withColumn(\"classWeightCol\", when(df.click == 1, balancing_ratio).otherwise(1.0))\n"
      ],
      "metadata": {
        "id": "z8kkUT6ZI9Mz"
      },
      "execution_count": 14,
      "outputs": []
    },
    {
      "cell_type": "markdown",
      "source": [
        "Explanation:\n",
        "\n",
        "Calculate the balancing ratio and adjust for class imbalance by adding a `classWeightCol`."
      ],
      "metadata": {
        "id": "zoTqVlVBI-y-"
      }
    },
    {
      "cell_type": "markdown",
      "source": [
        "### **Step 8: Model Training with Gradient Boosted Trees**\n",
        "#### 8.1 Split the Data"
      ],
      "metadata": {
        "id": "Chp98Nn1JEht"
      }
    },
    {
      "cell_type": "code",
      "source": [
        "# Split the data into training and testing sets\n",
        "train_df, test_df = df.randomSplit([0.7, 0.3], seed=42)\n"
      ],
      "metadata": {
        "id": "8XhYbntpJDHa"
      },
      "execution_count": 15,
      "outputs": []
    },
    {
      "cell_type": "markdown",
      "source": [
        "#### 8.2 Initialize and Train the Model"
      ],
      "metadata": {
        "id": "D9DwZDDGJLTs"
      }
    },
    {
      "cell_type": "code",
      "source": [
        "from pyspark.ml.classification import GBTClassifier\n",
        "\n",
        "# Initialize the Gradient Boosted Trees Classifier\n",
        "gbt = GBTClassifier(featuresCol='selectedFeatures', labelCol='click', weightCol='classWeightCol', maxIter=20)\n",
        "\n",
        "# Train the model\n",
        "gbt_model = gbt.fit(train_df)\n"
      ],
      "metadata": {
        "id": "OYyWuDPMJN9w"
      },
      "execution_count": 16,
      "outputs": []
    },
    {
      "cell_type": "markdown",
      "source": [
        "Explanation:\n",
        "\n",
        "- Use Gradient Boosted Trees with class weights to train the model on the training data."
      ],
      "metadata": {
        "id": "f42SEjprJQC1"
      }
    },
    {
      "cell_type": "markdown",
      "source": [
        "### **Step 9: Hyperparameter Tuning**\n",
        "#### 9.1 Set Up Hyperparameter Grid"
      ],
      "metadata": {
        "id": "04n3iCM2JXeE"
      }
    },
    {
      "cell_type": "code",
      "source": [
        "from pyspark.ml.tuning import ParamGridBuilder, CrossValidator\n",
        "from pyspark.ml.evaluation import BinaryClassificationEvaluator\n",
        "\n",
        "# Define the evaluator\n",
        "evaluator = BinaryClassificationEvaluator(labelCol='click', metricName='areaUnderROC')\n",
        "\n",
        "# Create parameter grid for tuning\n",
        "paramGrid = ParamGridBuilder() \\\n",
        "    .addGrid(gbt.maxDepth, [5, 10]) \\\n",
        "    .addGrid(gbt.maxIter, [10, 20]) \\\n",
        "    .addGrid(gbt.stepSize, [0.1, 0.2]) \\\n",
        "    .build()\n"
      ],
      "metadata": {
        "id": "6K-Se6JaJVUC"
      },
      "execution_count": 17,
      "outputs": []
    },
    {
      "cell_type": "markdown",
      "source": [
        "#### 9.2 Cross-Validation"
      ],
      "metadata": {
        "id": "A5fpdBEmJdQE"
      }
    },
    {
      "cell_type": "code",
      "source": [
        "# Set up CrossValidator\n",
        "cv = CrossValidator(estimator=gbt,\n",
        "                    estimatorParamMaps=paramGrid,\n",
        "                    evaluator=evaluator,\n",
        "                    numFolds=3)  # 3-fold cross-validation\n",
        "\n",
        "# Run cross-validation and choose the best set of parameters\n",
        "cv_model = cv.fit(train_df)\n",
        "\n",
        "# Get the best model\n",
        "best_model = cv_model.bestModel\n"
      ],
      "metadata": {
        "id": "JqPogFTpJfZi"
      },
      "execution_count": 18,
      "outputs": []
    },
    {
      "cell_type": "markdown",
      "source": [
        "Explanation:\n",
        "\n",
        "Perform hyperparameter tuning using cross-validation to find the best model parameters."
      ],
      "metadata": {
        "id": "Kfvk-ENEJiun"
      }
    },
    {
      "cell_type": "markdown",
      "source": [
        " ### **Step 10: Model Evaluation**\n",
        "#### 10.1 Evaluate the Best Model"
      ],
      "metadata": {
        "id": "-cfWa4tQJlQ2"
      }
    },
    {
      "cell_type": "code",
      "source": [
        "# Make predictions on the test data\n",
        "predictions = best_model.transform(test_df)\n",
        "\n",
        "# Evaluate using AUC\n",
        "auc = evaluator.evaluate(predictions)\n",
        "print(f\"Test AUC: {auc:.4f}\")\n"
      ],
      "metadata": {
        "colab": {
          "base_uri": "https://localhost:8080/"
        },
        "id": "APgQAsoyJjeA",
        "outputId": "414f6085-5648-4d12-fbe5-eb77bd2628b5"
      },
      "execution_count": 19,
      "outputs": [
        {
          "output_type": "stream",
          "name": "stdout",
          "text": [
            "Test AUC: 0.6405\n"
          ]
        }
      ]
    },
    {
      "cell_type": "markdown",
      "source": [
        "#### 10.2 Additional Metrics"
      ],
      "metadata": {
        "id": "huI8CR2xJtAF"
      }
    },
    {
      "cell_type": "code",
      "source": [
        "from pyspark.ml.evaluation import MulticlassClassificationEvaluator\n",
        "\n",
        "# Accuracy\n",
        "accuracy_evaluator = MulticlassClassificationEvaluator(labelCol='click', predictionCol='prediction', metricName='accuracy')\n",
        "accuracy = accuracy_evaluator.evaluate(predictions)\n",
        "print(f\"Test Accuracy: {accuracy:.4f}\")\n",
        "\n",
        "# Precision\n",
        "precision_evaluator = MulticlassClassificationEvaluator(labelCol='click', predictionCol='prediction', metricName='weightedPrecision')\n",
        "precision = precision_evaluator.evaluate(predictions)\n",
        "print(f\"Test Precision: {precision:.4f}\")\n",
        "\n",
        "# Recall\n",
        "recall_evaluator = MulticlassClassificationEvaluator(labelCol='click', predictionCol='prediction', metricName='weightedRecall')\n",
        "recall = recall_evaluator.evaluate(predictions)\n",
        "print(f\"Test Recall: {recall:.4f}\")\n",
        "\n",
        "# F1 Score\n",
        "f1_evaluator = MulticlassClassificationEvaluator(labelCol='click', predictionCol='prediction', metricName='f1')\n",
        "f1 = f1_evaluator.evaluate(predictions)\n",
        "print(f\"Test F1 Score: {f1:.4f}\")\n"
      ],
      "metadata": {
        "colab": {
          "base_uri": "https://localhost:8080/"
        },
        "id": "x4kyRk0KJt4x",
        "outputId": "0c3dbbcd-3e03-43aa-d823-db9ee3f97ba9"
      },
      "execution_count": 20,
      "outputs": [
        {
          "output_type": "stream",
          "name": "stdout",
          "text": [
            "Test Accuracy: 0.5698\n",
            "Test Precision: 0.7756\n",
            "Test Recall: 0.5698\n",
            "Test F1 Score: 0.6206\n"
          ]
        }
      ]
    },
    {
      "cell_type": "markdown",
      "source": [
        "Explanation:\n",
        "\n",
        "- Evaluate the model using various metrics to get a comprehensive understanding of its performance."
      ],
      "metadata": {
        "id": "jNjUpsFqJw2a"
      }
    },
    {
      "cell_type": "markdown",
      "source": [
        "### **Step 11: Advanced Visualization**\n",
        "#### 11.1 Interactive Feature Importance with Plotly"
      ],
      "metadata": {
        "id": "ICMuz_aNJ1Ih"
      }
    },
    {
      "cell_type": "code",
      "source": [
        "# Extract feature importances\n",
        "importances = best_model.featureImportances\n",
        "\n",
        "# Map feature importances to feature names\n",
        "selected_features_indices = selector_model.selectedFeatures\n",
        "feature_importance_list = []\n",
        "\n",
        "for idx, importance in enumerate(importances):\n",
        "    feature_idx = selected_features_indices[idx]\n",
        "    # Handle the case when 'hour_of_day' is in the features\n",
        "    if feature_idx < len(feature_cols):\n",
        "        feature_name = feature_cols[feature_idx]\n",
        "    else:\n",
        "        feature_name = f\"Feature_{feature_idx}\"\n",
        "    feature_importance_list.append((feature_name, importance))\n",
        "\n",
        "# Convert to DataFrame\n",
        "importance_df = pd.DataFrame(feature_importance_list, columns=['feature', 'importance'])\n",
        "importance_df.sort_values(by='importance', ascending=False, inplace=True)\n",
        "\n",
        "# Plot using Plotly\n",
        "fig = px.bar(importance_df.head(20), x='importance', y='feature', orientation='h', title='Top 20 Feature Importances')\n",
        "fig.update_layout(yaxis={'categoryorder': 'total ascending'})\n",
        "fig.show()\n"
      ],
      "metadata": {
        "colab": {
          "base_uri": "https://localhost:8080/",
          "height": 542
        },
        "id": "nzwe7Z1vJ4pE",
        "outputId": "284ccd08-0cd7-4fd9-917d-f5aeb1dd37fe"
      },
      "execution_count": 21,
      "outputs": [
        {
          "output_type": "display_data",
          "data": {
            "text/html": [
              "<html>\n",
              "<head><meta charset=\"utf-8\" /></head>\n",
              "<body>\n",
              "    <div>            <script src=\"https://cdnjs.cloudflare.com/ajax/libs/mathjax/2.7.5/MathJax.js?config=TeX-AMS-MML_SVG\"></script><script type=\"text/javascript\">if (window.MathJax && window.MathJax.Hub && window.MathJax.Hub.Config) {window.MathJax.Hub.Config({SVG: {font: \"STIX-Web\"}});}</script>                <script type=\"text/javascript\">window.PlotlyConfig = {MathJaxConfig: 'local'};</script>\n",
              "        <script charset=\"utf-8\" src=\"https://cdn.plot.ly/plotly-2.35.2.min.js\"></script>                <div id=\"2fa7b972-524b-4a57-af6b-e2d0639e0d2e\" class=\"plotly-graph-div\" style=\"height:525px; width:100%;\"></div>            <script type=\"text/javascript\">                                    window.PLOTLYENV=window.PLOTLYENV || {};                                    if (document.getElementById(\"2fa7b972-524b-4a57-af6b-e2d0639e0d2e\")) {                    Plotly.newPlot(                        \"2fa7b972-524b-4a57-af6b-e2d0639e0d2e\",                        [{\"alignmentgroup\":\"True\",\"hovertemplate\":\"importance=%{x}\\u003cbr\\u003efeature=%{y}\\u003cextra\\u003e\\u003c\\u002fextra\\u003e\",\"legendgroup\":\"\",\"marker\":{\"color\":\"#636efa\",\"pattern\":{\"shape\":\"\"}},\"name\":\"\",\"offsetgroup\":\"\",\"orientation\":\"h\",\"showlegend\":false,\"textposition\":\"auto\",\"x\":[0.2197041358450547,0.09972097576715096,0.09643148456787781,0.07225704128442076,0.06936320523843964,0.04513444445429242,0.041483980089982636,0.03550905785858395,0.029906559521614393,0.029900876727374057,0.028512965324555127,0.021427313922423936,0.020724871003803214,0.019100753454024882,0.018953734768017417,0.01877065061690904,0.018576099978987164,0.013217989247425779,0.011881226058698832,0.011362910429575341],\"xaxis\":\"x\",\"y\":[\"Feature_59\",\"Feature_21\",\"Feature_32\",\"Feature_16\",\"Feature_57\",\"Feature_7\",\"Feature_15\",\"Feature_34\",\"Feature_55\",\"Feature_17\",\"Feature_36\",\"Feature_9\",\"Feature_37\",\"site_category_Vec\",\"Feature_33\",\"Feature_14\",\"app_category_Vec\",\"Feature_20\",\"Feature_58\",\"Feature_41\"],\"yaxis\":\"y\",\"type\":\"bar\"}],                        {\"template\":{\"data\":{\"histogram2dcontour\":[{\"type\":\"histogram2dcontour\",\"colorbar\":{\"outlinewidth\":0,\"ticks\":\"\"},\"colorscale\":[[0.0,\"#0d0887\"],[0.1111111111111111,\"#46039f\"],[0.2222222222222222,\"#7201a8\"],[0.3333333333333333,\"#9c179e\"],[0.4444444444444444,\"#bd3786\"],[0.5555555555555556,\"#d8576b\"],[0.6666666666666666,\"#ed7953\"],[0.7777777777777778,\"#fb9f3a\"],[0.8888888888888888,\"#fdca26\"],[1.0,\"#f0f921\"]]}],\"choropleth\":[{\"type\":\"choropleth\",\"colorbar\":{\"outlinewidth\":0,\"ticks\":\"\"}}],\"histogram2d\":[{\"type\":\"histogram2d\",\"colorbar\":{\"outlinewidth\":0,\"ticks\":\"\"},\"colorscale\":[[0.0,\"#0d0887\"],[0.1111111111111111,\"#46039f\"],[0.2222222222222222,\"#7201a8\"],[0.3333333333333333,\"#9c179e\"],[0.4444444444444444,\"#bd3786\"],[0.5555555555555556,\"#d8576b\"],[0.6666666666666666,\"#ed7953\"],[0.7777777777777778,\"#fb9f3a\"],[0.8888888888888888,\"#fdca26\"],[1.0,\"#f0f921\"]]}],\"heatmap\":[{\"type\":\"heatmap\",\"colorbar\":{\"outlinewidth\":0,\"ticks\":\"\"},\"colorscale\":[[0.0,\"#0d0887\"],[0.1111111111111111,\"#46039f\"],[0.2222222222222222,\"#7201a8\"],[0.3333333333333333,\"#9c179e\"],[0.4444444444444444,\"#bd3786\"],[0.5555555555555556,\"#d8576b\"],[0.6666666666666666,\"#ed7953\"],[0.7777777777777778,\"#fb9f3a\"],[0.8888888888888888,\"#fdca26\"],[1.0,\"#f0f921\"]]}],\"heatmapgl\":[{\"type\":\"heatmapgl\",\"colorbar\":{\"outlinewidth\":0,\"ticks\":\"\"},\"colorscale\":[[0.0,\"#0d0887\"],[0.1111111111111111,\"#46039f\"],[0.2222222222222222,\"#7201a8\"],[0.3333333333333333,\"#9c179e\"],[0.4444444444444444,\"#bd3786\"],[0.5555555555555556,\"#d8576b\"],[0.6666666666666666,\"#ed7953\"],[0.7777777777777778,\"#fb9f3a\"],[0.8888888888888888,\"#fdca26\"],[1.0,\"#f0f921\"]]}],\"contourcarpet\":[{\"type\":\"contourcarpet\",\"colorbar\":{\"outlinewidth\":0,\"ticks\":\"\"}}],\"contour\":[{\"type\":\"contour\",\"colorbar\":{\"outlinewidth\":0,\"ticks\":\"\"},\"colorscale\":[[0.0,\"#0d0887\"],[0.1111111111111111,\"#46039f\"],[0.2222222222222222,\"#7201a8\"],[0.3333333333333333,\"#9c179e\"],[0.4444444444444444,\"#bd3786\"],[0.5555555555555556,\"#d8576b\"],[0.6666666666666666,\"#ed7953\"],[0.7777777777777778,\"#fb9f3a\"],[0.8888888888888888,\"#fdca26\"],[1.0,\"#f0f921\"]]}],\"surface\":[{\"type\":\"surface\",\"colorbar\":{\"outlinewidth\":0,\"ticks\":\"\"},\"colorscale\":[[0.0,\"#0d0887\"],[0.1111111111111111,\"#46039f\"],[0.2222222222222222,\"#7201a8\"],[0.3333333333333333,\"#9c179e\"],[0.4444444444444444,\"#bd3786\"],[0.5555555555555556,\"#d8576b\"],[0.6666666666666666,\"#ed7953\"],[0.7777777777777778,\"#fb9f3a\"],[0.8888888888888888,\"#fdca26\"],[1.0,\"#f0f921\"]]}],\"mesh3d\":[{\"type\":\"mesh3d\",\"colorbar\":{\"outlinewidth\":0,\"ticks\":\"\"}}],\"scatter\":[{\"fillpattern\":{\"fillmode\":\"overlay\",\"size\":10,\"solidity\":0.2},\"type\":\"scatter\"}],\"parcoords\":[{\"type\":\"parcoords\",\"line\":{\"colorbar\":{\"outlinewidth\":0,\"ticks\":\"\"}}}],\"scatterpolargl\":[{\"type\":\"scatterpolargl\",\"marker\":{\"colorbar\":{\"outlinewidth\":0,\"ticks\":\"\"}}}],\"bar\":[{\"error_x\":{\"color\":\"#2a3f5f\"},\"error_y\":{\"color\":\"#2a3f5f\"},\"marker\":{\"line\":{\"color\":\"#E5ECF6\",\"width\":0.5},\"pattern\":{\"fillmode\":\"overlay\",\"size\":10,\"solidity\":0.2}},\"type\":\"bar\"}],\"scattergeo\":[{\"type\":\"scattergeo\",\"marker\":{\"colorbar\":{\"outlinewidth\":0,\"ticks\":\"\"}}}],\"scatterpolar\":[{\"type\":\"scatterpolar\",\"marker\":{\"colorbar\":{\"outlinewidth\":0,\"ticks\":\"\"}}}],\"histogram\":[{\"marker\":{\"pattern\":{\"fillmode\":\"overlay\",\"size\":10,\"solidity\":0.2}},\"type\":\"histogram\"}],\"scattergl\":[{\"type\":\"scattergl\",\"marker\":{\"colorbar\":{\"outlinewidth\":0,\"ticks\":\"\"}}}],\"scatter3d\":[{\"type\":\"scatter3d\",\"line\":{\"colorbar\":{\"outlinewidth\":0,\"ticks\":\"\"}},\"marker\":{\"colorbar\":{\"outlinewidth\":0,\"ticks\":\"\"}}}],\"scattermapbox\":[{\"type\":\"scattermapbox\",\"marker\":{\"colorbar\":{\"outlinewidth\":0,\"ticks\":\"\"}}}],\"scatterternary\":[{\"type\":\"scatterternary\",\"marker\":{\"colorbar\":{\"outlinewidth\":0,\"ticks\":\"\"}}}],\"scattercarpet\":[{\"type\":\"scattercarpet\",\"marker\":{\"colorbar\":{\"outlinewidth\":0,\"ticks\":\"\"}}}],\"carpet\":[{\"aaxis\":{\"endlinecolor\":\"#2a3f5f\",\"gridcolor\":\"white\",\"linecolor\":\"white\",\"minorgridcolor\":\"white\",\"startlinecolor\":\"#2a3f5f\"},\"baxis\":{\"endlinecolor\":\"#2a3f5f\",\"gridcolor\":\"white\",\"linecolor\":\"white\",\"minorgridcolor\":\"white\",\"startlinecolor\":\"#2a3f5f\"},\"type\":\"carpet\"}],\"table\":[{\"cells\":{\"fill\":{\"color\":\"#EBF0F8\"},\"line\":{\"color\":\"white\"}},\"header\":{\"fill\":{\"color\":\"#C8D4E3\"},\"line\":{\"color\":\"white\"}},\"type\":\"table\"}],\"barpolar\":[{\"marker\":{\"line\":{\"color\":\"#E5ECF6\",\"width\":0.5},\"pattern\":{\"fillmode\":\"overlay\",\"size\":10,\"solidity\":0.2}},\"type\":\"barpolar\"}],\"pie\":[{\"automargin\":true,\"type\":\"pie\"}]},\"layout\":{\"autotypenumbers\":\"strict\",\"colorway\":[\"#636efa\",\"#EF553B\",\"#00cc96\",\"#ab63fa\",\"#FFA15A\",\"#19d3f3\",\"#FF6692\",\"#B6E880\",\"#FF97FF\",\"#FECB52\"],\"font\":{\"color\":\"#2a3f5f\"},\"hovermode\":\"closest\",\"hoverlabel\":{\"align\":\"left\"},\"paper_bgcolor\":\"white\",\"plot_bgcolor\":\"#E5ECF6\",\"polar\":{\"bgcolor\":\"#E5ECF6\",\"angularaxis\":{\"gridcolor\":\"white\",\"linecolor\":\"white\",\"ticks\":\"\"},\"radialaxis\":{\"gridcolor\":\"white\",\"linecolor\":\"white\",\"ticks\":\"\"}},\"ternary\":{\"bgcolor\":\"#E5ECF6\",\"aaxis\":{\"gridcolor\":\"white\",\"linecolor\":\"white\",\"ticks\":\"\"},\"baxis\":{\"gridcolor\":\"white\",\"linecolor\":\"white\",\"ticks\":\"\"},\"caxis\":{\"gridcolor\":\"white\",\"linecolor\":\"white\",\"ticks\":\"\"}},\"coloraxis\":{\"colorbar\":{\"outlinewidth\":0,\"ticks\":\"\"}},\"colorscale\":{\"sequential\":[[0.0,\"#0d0887\"],[0.1111111111111111,\"#46039f\"],[0.2222222222222222,\"#7201a8\"],[0.3333333333333333,\"#9c179e\"],[0.4444444444444444,\"#bd3786\"],[0.5555555555555556,\"#d8576b\"],[0.6666666666666666,\"#ed7953\"],[0.7777777777777778,\"#fb9f3a\"],[0.8888888888888888,\"#fdca26\"],[1.0,\"#f0f921\"]],\"sequentialminus\":[[0.0,\"#0d0887\"],[0.1111111111111111,\"#46039f\"],[0.2222222222222222,\"#7201a8\"],[0.3333333333333333,\"#9c179e\"],[0.4444444444444444,\"#bd3786\"],[0.5555555555555556,\"#d8576b\"],[0.6666666666666666,\"#ed7953\"],[0.7777777777777778,\"#fb9f3a\"],[0.8888888888888888,\"#fdca26\"],[1.0,\"#f0f921\"]],\"diverging\":[[0,\"#8e0152\"],[0.1,\"#c51b7d\"],[0.2,\"#de77ae\"],[0.3,\"#f1b6da\"],[0.4,\"#fde0ef\"],[0.5,\"#f7f7f7\"],[0.6,\"#e6f5d0\"],[0.7,\"#b8e186\"],[0.8,\"#7fbc41\"],[0.9,\"#4d9221\"],[1,\"#276419\"]]},\"xaxis\":{\"gridcolor\":\"white\",\"linecolor\":\"white\",\"ticks\":\"\",\"title\":{\"standoff\":15},\"zerolinecolor\":\"white\",\"automargin\":true,\"zerolinewidth\":2},\"yaxis\":{\"gridcolor\":\"white\",\"linecolor\":\"white\",\"ticks\":\"\",\"title\":{\"standoff\":15},\"zerolinecolor\":\"white\",\"automargin\":true,\"zerolinewidth\":2},\"scene\":{\"xaxis\":{\"backgroundcolor\":\"#E5ECF6\",\"gridcolor\":\"white\",\"linecolor\":\"white\",\"showbackground\":true,\"ticks\":\"\",\"zerolinecolor\":\"white\",\"gridwidth\":2},\"yaxis\":{\"backgroundcolor\":\"#E5ECF6\",\"gridcolor\":\"white\",\"linecolor\":\"white\",\"showbackground\":true,\"ticks\":\"\",\"zerolinecolor\":\"white\",\"gridwidth\":2},\"zaxis\":{\"backgroundcolor\":\"#E5ECF6\",\"gridcolor\":\"white\",\"linecolor\":\"white\",\"showbackground\":true,\"ticks\":\"\",\"zerolinecolor\":\"white\",\"gridwidth\":2}},\"shapedefaults\":{\"line\":{\"color\":\"#2a3f5f\"}},\"annotationdefaults\":{\"arrowcolor\":\"#2a3f5f\",\"arrowhead\":0,\"arrowwidth\":1},\"geo\":{\"bgcolor\":\"white\",\"landcolor\":\"#E5ECF6\",\"subunitcolor\":\"white\",\"showland\":true,\"showlakes\":true,\"lakecolor\":\"white\"},\"title\":{\"x\":0.05},\"mapbox\":{\"style\":\"light\"}}},\"xaxis\":{\"anchor\":\"y\",\"domain\":[0.0,1.0],\"title\":{\"text\":\"importance\"}},\"yaxis\":{\"anchor\":\"x\",\"domain\":[0.0,1.0],\"title\":{\"text\":\"feature\"},\"categoryorder\":\"total ascending\"},\"legend\":{\"tracegroupgap\":0},\"title\":{\"text\":\"Top 20 Feature Importances\"},\"barmode\":\"relative\"},                        {\"responsive\": true}                    ).then(function(){\n",
              "                            \n",
              "var gd = document.getElementById('2fa7b972-524b-4a57-af6b-e2d0639e0d2e');\n",
              "var x = new MutationObserver(function (mutations, observer) {{\n",
              "        var display = window.getComputedStyle(gd).display;\n",
              "        if (!display || display === 'none') {{\n",
              "            console.log([gd, 'removed!']);\n",
              "            Plotly.purge(gd);\n",
              "            observer.disconnect();\n",
              "        }}\n",
              "}});\n",
              "\n",
              "// Listen for the removal of the full notebook cells\n",
              "var notebookContainer = gd.closest('#notebook-container');\n",
              "if (notebookContainer) {{\n",
              "    x.observe(notebookContainer, {childList: true});\n",
              "}}\n",
              "\n",
              "// Listen for the clearing of the current output cell\n",
              "var outputEl = gd.closest('.output');\n",
              "if (outputEl) {{\n",
              "    x.observe(outputEl, {childList: true});\n",
              "}}\n",
              "\n",
              "                        })                };                            </script>        </div>\n",
              "</body>\n",
              "</html>"
            ]
          },
          "metadata": {}
        }
      ]
    },
    {
      "cell_type": "markdown",
      "source": [
        "Explanation:\n",
        "\n",
        "- Use `Plotly` to create an interactive bar chart of the top 20 feature importances.\n"
      ],
      "metadata": {
        "id": "uCg0lp_jJ7dx"
      }
    },
    {
      "cell_type": "markdown",
      "source": [
        "### **Step 12: Saving and Loading Models**\n",
        "#### 12.1 Save the Best Model"
      ],
      "metadata": {
        "id": "tOSRVkSaJ_M8"
      }
    },
    {
      "cell_type": "code",
      "source": [
        "# Save the best model to the Colab VM file system\n",
        "model_save_path = \"/content/best_gbt_model\"\n",
        "best_model.save(model_save_path)"
      ],
      "metadata": {
        "id": "Uv_9DS4SJ9GP"
      },
      "execution_count": 25,
      "outputs": []
    },
    {
      "cell_type": "code",
      "source": [
        "!zip -r best_gbt_model.zip /content/best_gbt_model"
      ],
      "metadata": {
        "colab": {
          "base_uri": "https://localhost:8080/"
        },
        "id": "izqVldp9PR8N",
        "outputId": "cfe20275-4fd3-4233-cd3d-c8858da8c835"
      },
      "execution_count": 26,
      "outputs": [
        {
          "output_type": "stream",
          "name": "stdout",
          "text": [
            "  adding: content/best_gbt_model/ (stored 0%)\n",
            "  adding: content/best_gbt_model/data/ (stored 0%)\n",
            "  adding: content/best_gbt_model/data/.part-00000-69600d60-49b4-4ace-b550-c7033882cad6-c000.snappy.parquet.crc (stored 0%)\n",
            "  adding: content/best_gbt_model/data/._SUCCESS.crc (stored 0%)\n",
            "  adding: content/best_gbt_model/data/_SUCCESS (stored 0%)\n",
            "  adding: content/best_gbt_model/data/part-00000-69600d60-49b4-4ace-b550-c7033882cad6-c000.snappy.parquet (deflated 13%)\n",
            "  adding: content/best_gbt_model/treesMetadata/ (stored 0%)\n",
            "  adding: content/best_gbt_model/treesMetadata/._SUCCESS.crc (stored 0%)\n",
            "  adding: content/best_gbt_model/treesMetadata/.part-00000-82c2ad59-b87c-4aa4-b59c-309870951729-c000.snappy.parquet.crc (stored 0%)\n",
            "  adding: content/best_gbt_model/treesMetadata/_SUCCESS (stored 0%)\n",
            "  adding: content/best_gbt_model/treesMetadata/part-00000-82c2ad59-b87c-4aa4-b59c-309870951729-c000.snappy.parquet (deflated 40%)\n",
            "  adding: content/best_gbt_model/metadata/ (stored 0%)\n",
            "  adding: content/best_gbt_model/metadata/._SUCCESS.crc (stored 0%)\n",
            "  adding: content/best_gbt_model/metadata/part-00000 (deflated 46%)\n",
            "  adding: content/best_gbt_model/metadata/_SUCCESS (stored 0%)\n",
            "  adding: content/best_gbt_model/metadata/.part-00000.crc (stored 0%)\n"
          ]
        }
      ]
    },
    {
      "cell_type": "code",
      "source": [
        "from google.colab import files\n",
        "files.download('best_gbt_model.zip')"
      ],
      "metadata": {
        "colab": {
          "base_uri": "https://localhost:8080/",
          "height": 17
        },
        "id": "d-DzysTlPSS8",
        "outputId": "b57c3bf7-0242-4a8d-dbe4-78625aa40541"
      },
      "execution_count": 27,
      "outputs": [
        {
          "output_type": "display_data",
          "data": {
            "text/plain": [
              "<IPython.core.display.Javascript object>"
            ],
            "application/javascript": [
              "\n",
              "    async function download(id, filename, size) {\n",
              "      if (!google.colab.kernel.accessAllowed) {\n",
              "        return;\n",
              "      }\n",
              "      const div = document.createElement('div');\n",
              "      const label = document.createElement('label');\n",
              "      label.textContent = `Downloading \"${filename}\": `;\n",
              "      div.appendChild(label);\n",
              "      const progress = document.createElement('progress');\n",
              "      progress.max = size;\n",
              "      div.appendChild(progress);\n",
              "      document.body.appendChild(div);\n",
              "\n",
              "      const buffers = [];\n",
              "      let downloaded = 0;\n",
              "\n",
              "      const channel = await google.colab.kernel.comms.open(id);\n",
              "      // Send a message to notify the kernel that we're ready.\n",
              "      channel.send({})\n",
              "\n",
              "      for await (const message of channel.messages) {\n",
              "        // Send a message to notify the kernel that we're ready.\n",
              "        channel.send({})\n",
              "        if (message.buffers) {\n",
              "          for (const buffer of message.buffers) {\n",
              "            buffers.push(buffer);\n",
              "            downloaded += buffer.byteLength;\n",
              "            progress.value = downloaded;\n",
              "          }\n",
              "        }\n",
              "      }\n",
              "      const blob = new Blob(buffers, {type: 'application/binary'});\n",
              "      const a = document.createElement('a');\n",
              "      a.href = window.URL.createObjectURL(blob);\n",
              "      a.download = filename;\n",
              "      div.appendChild(a);\n",
              "      a.click();\n",
              "      div.remove();\n",
              "    }\n",
              "  "
            ]
          },
          "metadata": {}
        },
        {
          "output_type": "display_data",
          "data": {
            "text/plain": [
              "<IPython.core.display.Javascript object>"
            ],
            "application/javascript": [
              "download(\"download_88bac48f-e045-4b0e-a98e-5dbe0dfed4bd\", \"best_gbt_model.zip\", 44298)"
            ]
          },
          "metadata": {}
        }
      ]
    },
    {
      "cell_type": "markdown",
      "source": [
        "#### 12.2 Load the Saved Model"
      ],
      "metadata": {
        "id": "7QdDMjxnKFtH"
      }
    },
    {
      "cell_type": "code",
      "source": [
        "from pyspark.ml.classification import GBTClassificationModel\n",
        "\n",
        "# Load the model\n",
        "loaded_model = GBTClassificationModel.load(model_save_path)\n"
      ],
      "metadata": {
        "id": "xErCT3bfKMRu"
      },
      "execution_count": 28,
      "outputs": []
    },
    {
      "cell_type": "markdown",
      "source": [
        "Explanation:\n",
        "\n",
        "Save the trained model for future use and load it when needed.\n"
      ],
      "metadata": {
        "id": "9PxDMCYGKPAZ"
      }
    },
    {
      "cell_type": "markdown",
      "source": [
        "### **Step 13: Building a Simple Recommender for Bidding Strategy**\n",
        "#### 13.1 Recommend Bid Adjustments Based on Predicted Probabilities"
      ],
      "metadata": {
        "id": "KN0DZk-SKRrq"
      }
    },
    {
      "cell_type": "code",
      "source": [
        "# Define a function to recommend bid adjustments\n",
        "def recommend_bid(probability):\n",
        "    prob = probability[1]  # Probability of class 1 (click)\n",
        "    if prob >= 0.8:\n",
        "        return 'Increase bid by 20%'\n",
        "    elif prob >= 0.6:\n",
        "        return 'Increase bid by 10%'\n",
        "    elif prob >= 0.4:\n",
        "        return 'Maintain current bid'\n",
        "    else:\n",
        "        return 'Decrease bid by 10%'\n",
        "\n",
        "# Register UDF\n",
        "from pyspark.sql.functions import udf\n",
        "from pyspark.sql.types import StringType\n",
        "\n",
        "recommend_bid_udf = udf(recommend_bid, StringType())\n",
        "\n",
        "# Apply the UDF to get bid recommendations\n",
        "predictions = predictions.withColumn('bid_recommendation', recommend_bid_udf('probability'))\n",
        "\n",
        "# Show some examples\n",
        "predictions.select('probability', 'bid_recommendation').show(5, truncate=False)\n"
      ],
      "metadata": {
        "colab": {
          "base_uri": "https://localhost:8080/"
        },
        "id": "ffOni89pKPs0",
        "outputId": "dbe00df1-561d-4ee3-85ec-3689803c35a5"
      },
      "execution_count": 29,
      "outputs": [
        {
          "output_type": "stream",
          "name": "stdout",
          "text": [
            "+----------------------------------------+--------------------+\n",
            "|probability                             |bid_recommendation  |\n",
            "+----------------------------------------+--------------------+\n",
            "|[0.45638854422668457,0.5436114557733154]|Maintain current bid|\n",
            "|[0.4422460289489644,0.5577539710510355] |Maintain current bid|\n",
            "|[0.5905618689745546,0.40943813102544535]|Maintain current bid|\n",
            "|[0.44263645771645826,0.5573635422835417]|Maintain current bid|\n",
            "|[0.38700928323989353,0.6129907167601065]|Increase bid by 10% |\n",
            "+----------------------------------------+--------------------+\n",
            "only showing top 5 rows\n",
            "\n"
          ]
        }
      ]
    },
    {
      "cell_type": "markdown",
      "source": [
        "Explanation:\n",
        "\n",
        "Create a user-defined function to recommend bid adjustments based on predicted click probabilities.\n"
      ],
      "metadata": {
        "id": "pmYLYjGgKa1o"
      }
    }
  ]
}